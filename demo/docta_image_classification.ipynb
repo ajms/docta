{
 "cells": [
  {
   "cell_type": "markdown",
   "metadata": {},
   "source": [
    "# Tutorial: detecting label errors in a dataset\n",
    "\n",
    "## Q: What are samples with label errors?\n",
    "\n",
    "A figure below illustrates what are samples with label errors."
   ]
  },
  {
   "cell_type": "code",
   "execution_count": null,
   "metadata": {},
   "outputs": [],
   "source": [
    "# Set path\n",
    "import sys\n",
    "import os\n",
    "os.chdir('..')\n",
    "o_path = os.getcwd()\n",
    "print(o_path)\n",
    "sys.path.append(o_path) # set path so that modules from other foloders can be loaded\n",
    "from IPython.display import Image"
   ]
  },
  {
   "cell_type": "markdown",
   "metadata": {},
   "source": [
    "#### The figure above includes 10 selected CIFAR-100N images with ground-truth labels (first row in text) and human annotated labels (second row in text). Images with red-circled text indicate that their ``human annotations`` differ from the ``ground-truth label``. Thus, there exists label error in images with red-circled labels."
   ]
  },
  {
   "cell_type": "markdown",
   "metadata": {},
   "source": [
    "### Don't worry about label errors in your data. Docta can help you detecting them!"
   ]
  },
  {
   "cell_type": "markdown",
   "metadata": {},
   "source": [
    "## Docta Experiment Image Classification"
   ]
  },
  {
   "cell_type": "code",
   "execution_count": null,
   "metadata": {
    "scrolled": true
   },
   "outputs": [],
   "source": [
    "import torch\n",
    "torch.cuda.set_device(0)\n",
    "torch.cuda.get_device_name(0)"
   ]
  },
  {
   "cell_type": "code",
   "execution_count": null,
   "metadata": {},
   "outputs": [],
   "source": [
    "%run ./tools/docta_image_classification.py"
   ]
  },
  {
   "cell_type": "code",
   "execution_count": null,
   "metadata": {},
   "outputs": [],
   "source": [
    "import matplotlib.pyplot as plt\n",
    "\n",
    "plt.hist(label_error[:,1], alpha=0.5, label='Label Error')\n",
    "plt.hist(label_curation[:,2], alpha=0.5, label='Label Curation')\n",
    "plt.xlabel('Label')\n",
    "plt.ylabel('Frequency')\n",
    "plt.title('Histogram of Label Error and Label Curation')\n",
    "plt.legend()\n",
    "plt.show()"
   ]
  },
  {
   "cell_type": "code",
   "execution_count": null,
   "metadata": {},
   "outputs": [],
   "source": [
    "sel = (label_curation[:, 2] > 0.3) & (label_error[:, 1] > 0.95)\n",
    "print(f\"Found {np.sum(sel)} label errors from {len(dataset_raw)} samples\")\n",
    "\n",
    "# generate cured labels\n",
    "cured_labels = np.array(dataset_raw.label)\n",
    "cured_labels[label_curation[sel, 0].astype(int)] = label_curation[sel, 1].astype(int)\n",
    "save_path = cfg.save_path + f\"{cfg.embedding_model.split('/')[-1]}_{cfg.crop}_cured_labels_{cfg.dataset_type}.pt\"\n",
    "torch.save(cured_labels, save_path)\n",
    "print(f\"Saved cured labels to {save_path}\")\n"
   ]
  },
  {
   "cell_type": "markdown",
   "metadata": {},
   "source": [
    "## A help function for visualization"
   ]
  },
  {
   "cell_type": "code",
   "execution_count": null,
   "metadata": {},
   "outputs": [],
   "source": [
    "%matplotlib inline\n",
    "import matplotlib.pyplot as plt\n",
    "def visualize_result(num_show, data, noisy_label, cured_labels, label_name):\n",
    "    plt.rcParams[\"figure.figsize\"] = (20,24)\n",
    "    size = num_show\n",
    "    width = int(size / 3)\n",
    "    cnt = 0\n",
    "    for i in range(len(dataset)):\n",
    "        if noisy_label[i] != cured_labels[i]:\n",
    "            ax = plt.subplot(width,3,cnt+1)\n",
    "            ax.imshow(data.feature[i])\n",
    "            ax.set_title(f'Expert: {label_name[noisy_label[i]]}.\\nSuggested: {label_name[cured_labels[i]]}.')\n",
    "            ax.axis('off')\n",
    "            cnt += 1\n",
    "        if cnt == num_show:\n",
    "            break\n",
    "    plt.show()"
   ]
  },
  {
   "cell_type": "markdown",
   "metadata": {},
   "source": [
    "## Visualize results"
   ]
  },
  {
   "cell_type": "code",
   "execution_count": null,
   "metadata": {},
   "outputs": [],
   "source": [
    "dataset = ImageDataset10Classes(cfg, train=True)\n",
    "noisy_label = dataset.label\n",
    "feature = dataset.feature\n",
    "label_name = [index_to_class[idx] for idx in range(len(index_to_class))]\n",
    "num_show = 18\n",
    "visualize_result(num_show, dataset, noisy_label, cured_labels, label_name)\n"
   ]
  },
  {
   "cell_type": "code",
   "execution_count": null,
   "metadata": {},
   "outputs": [],
   "source": [
    "corrupt_labels_df = dataset_raw.image_metadata[[\"_id\", \"filename\", \"expert_classification\"]].copy()\n",
    "corrupt_labels_df[\"clip_model\"] = cfg.embedding_model.split('/')[-1]\n",
    "corrupt_labels_df[\"label_error_confidence\"] = np.nan\n",
    "corrupt_labels_df.loc[label_error[:, 0].astype(int), \"label_error_confidence\"] = label_error[:, 1]\n",
    "corrupt_labels_df[\"label_curation\"] = \"\"\n",
    "corrupt_labels_df.loc[label_curation[:, 0].astype(int), \"label_curation\"] = list(map(lambda x: index_to_class[x], label_curation[:, 1].astype(int).tolist()))\n",
    "corrupt_labels_df[\"label_curation_confidence\"] = np.nan\n",
    "corrupt_labels_df.loc[label_curation[:, 0].astype(int), \"label_curation_confidence\"] = label_curation[:, 2]"
   ]
  },
  {
   "cell_type": "code",
   "execution_count": null,
   "metadata": {},
   "outputs": [],
   "source": [
    "corrupt_labels_df.to_csv(cfg.save_path + f\"{cfg.embedding_model.split('/')[-1]}_{cfg.crop}_corrupt_labels_{cfg.crop}_hoc_{cfg.hoc_cfg.max_step}_simfeat_{cfg.detect_cfg.num_epochs}.csv\", index=False)"
   ]
  },
  {
   "cell_type": "code",
   "execution_count": null,
   "metadata": {},
   "outputs": [],
   "source": [
    "corrupt_labels_df"
   ]
  },
  {
   "cell_type": "code",
   "execution_count": null,
   "metadata": {},
   "outputs": [],
   "source": []
  }
 ],
 "metadata": {
  "kernelspec": {
   "display_name": "Python 3.8.10 ('wjh': venv)",
   "language": "python",
   "name": "python3"
  },
  "language_info": {
   "codemirror_mode": {
    "name": "ipython",
    "version": 3
   },
   "file_extension": ".py",
   "mimetype": "text/x-python",
   "name": "python",
   "nbconvert_exporter": "python",
   "pygments_lexer": "ipython3",
   "version": "3.12.5"
  },
  "vscode": {
   "interpreter": {
    "hash": "bcc8426b8d045be0378c3bf0c17d3248f5415a14d14faf1bc7373f8d795fc619"
   }
  }
 },
 "nbformat": 4,
 "nbformat_minor": 2
}
